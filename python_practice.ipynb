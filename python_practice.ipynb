{
 "cells": [
  {
   "cell_type": "code",
   "execution_count": 1,
   "id": "4023ccb5-8ba5-45d4-b881-7377ea802700",
   "metadata": {},
   "outputs": [
    {
     "name": "stdin",
     "output_type": "stream",
     "text": [
      "Enter a String:  alok\n"
     ]
    },
    {
     "name": "stdout",
     "output_type": "stream",
     "text": [
      "The Length of the string is: 4\n"
     ]
    }
   ],
   "source": [
    "# ACROPOLIS INSTITUTE OF TECHNOLOGY & RESEARCH, INDORE\n",
    "\n",
    "# Program to Calculate the length of a string\n",
    "user_string = input(\"Enter a String: \")\n",
    "length = len(user_string)\n",
    "\n",
    "# Display result\n",
    "print(\"The Length of the string is:\", length)"
   ]
  },
  {
   "cell_type": "code",
   "execution_count": 2,
   "id": "3b94b02d-46ab-4c61-8d90-99cba12972ba",
   "metadata": {},
   "outputs": [
    {
     "name": "stdout",
     "output_type": "stream",
     "text": [
      "Result: xyc abz\n"
     ]
    }
   ],
   "source": [
    "# Sample strings\n",
    "str1 = 'abc'\n",
    "str2 = 'xyz'\n",
    "\n",
    "# Swap the first two characters\n",
    "new_str1 = str2[:2] + str1[2:]\n",
    "new_str2 = str1[:2] + str2[2:]\n",
    "\n",
    "# Join with a space\n",
    "result = new_str1 + ' ' + new_str2\n",
    "\n",
    "# Print the result\n",
    "print(\"Result:\", result)"
   ]
  },
  {
   "cell_type": "code",
   "execution_count": 3,
   "id": "ec866325-6cbc-4ebc-9c18-f3c0929cf500",
   "metadata": {},
   "outputs": [
    {
     "name": "stdout",
     "output_type": "stream",
     "text": [
      "abcing\n",
      "stringly\n"
     ]
    }
   ],
   "source": [
    "def add_suffix(word):\n",
    "    if len(word) < 3:\n",
    "        return word\n",
    "    elif word.endswith(\"ing\"):\n",
    "        return word + \"ly\"\n",
    "    else:\n",
    "        return word + \"ing\"\n",
    "\n",
    "# Sample input\n",
    "print(add_suffix(\"abc\"))       # Output: abcing\n",
    "print(add_suffix(\"string\"))    # Output: stringly"
   ]
  },
  {
   "cell_type": "code",
   "execution_count": 4,
   "id": "5bbb46c5-0d21-4286-8a20-afaf2164f751",
   "metadata": {},
   "outputs": [
    {
     "name": "stdout",
     "output_type": "stream",
     "text": [
      "Length of the longest word is: 8\n"
     ]
    }
   ],
   "source": [
    "def longest_word_length(word_list):\n",
    "    longest_word = max(word_list, key=len)\n",
    "    return len(longest_word)\n",
    "\n",
    "# Sample usage\n",
    "words = [\"cat\", \"elephant\", \"tiger\", \"lion\"]\n",
    "result = longest_word_length(words)\n",
    "print(\"Length of the longest word is:\", result)"
   ]
  },
  {
   "cell_type": "code",
   "execution_count": 5,
   "id": "4bfc645f-6dc7-493b-9beb-3e1b38d2081b",
   "metadata": {},
   "outputs": [
    {
     "name": "stdout",
     "output_type": "stream",
     "text": [
      "{'g': 2, 'o': 3, 'l': 1, 'e': 1, '.': 1, 'c': 1, 'm': 1}\n"
     ]
    }
   ],
   "source": [
    "def char_frequency(string):\n",
    "    freq = {}\n",
    "    for char in string:\n",
    "        if char in freq:\n",
    "            freq[char] += 1\n",
    "        else:\n",
    "            freq[char] = 1\n",
    "    return freq\n",
    "\n",
    "# Sample input\n",
    "sample_string = \"google.com\"\n",
    "result = char_frequency(sample_string)\n",
    "print(result)"
   ]
  },
  {
   "cell_type": "code",
   "execution_count": 6,
   "id": "67777db5-18c6-4c88-bc6b-eb87042aa653",
   "metadata": {},
   "outputs": [
    {
     "name": "stdout",
     "output_type": "stream",
     "text": [
      "Input: string\n",
      "Output: gtrins\n"
     ]
    }
   ],
   "source": [
    "def swap_first_last_char(s):\n",
    "    if len(s) > 1:\n",
    "        return s[-1] + s[1:-1] + s[0]\n",
    "    else:\n",
    "        return s\n",
    "\n",
    "# Example\n",
    "input_string = \"string\"\n",
    "output_string = swap_first_last_char(input_string)\n",
    "print(\"Input:\", input_string)\n",
    "print(\"Output:\", output_string)"
   ]
  },
  {
   "cell_type": "code",
   "execution_count": 7,
   "id": "de4a8984-8dba-4635-93b9-4151e77bc684",
   "metadata": {},
   "outputs": [
    {
     "name": "stdout",
     "output_type": "stream",
     "text": [
      "Result: Hlowrd\n"
     ]
    }
   ],
   "source": [
    "def remove_odd_index_chars(s):\n",
    "    return ''.join([s[i] for i in range(len(s)) if i % 2 == 0])\n",
    "\n",
    "# Example\n",
    "input_string = \"Hello world\"\n",
    "output_string = remove_odd_index_chars(input_string)\n",
    "print(\"Result:\", output_string)"
   ]
  },
  {
   "cell_type": "code",
   "execution_count": 8,
   "id": "d19068a4-e0d7-4723-9c3e-a6a9b8f1c6db",
   "metadata": {},
   "outputs": [
    {
     "name": "stdin",
     "output_type": "stream",
     "text": [
      "Enter some text:  helloworld\n"
     ]
    },
    {
     "name": "stdout",
     "output_type": "stream",
     "text": [
      "Uppercase: HELLOWORLD\n",
      "Lowercase: helloworld\n"
     ]
    }
   ],
   "source": [
    "# Take input from the user\n",
    "user_input = input(\"Enter some text: \")\n",
    "\n",
    "# Display the input in both cases\n",
    "print(\"Uppercase:\", user_input.upper())\n",
    "print(\"Lowercase:\", user_input.lower())"
   ]
  },
  {
   "cell_type": "code",
   "execution_count": 9,
   "id": "28895bb6-7054-42d3-9c06-15703b106584",
   "metadata": {},
   "outputs": [
    {
     "name": "stdout",
     "output_type": "stream",
     "text": [
      "List: ['H', 'e', 'l', 'l', 'o']\n"
     ]
    }
   ],
   "source": [
    "def string_to_list(s):\n",
    "    return list(s)\n",
    "\n",
    "# Example\n",
    "input_string = \"Hello\"\n",
    "output_list = string_to_list(input_string)\n",
    "print(\"List:\", output_list)"
   ]
  },
  {
   "cell_type": "code",
   "execution_count": 10,
   "id": "262d1629-4d61-44b1-84a5-10be053b0880",
   "metadata": {},
   "outputs": [
    {
     "name": "stdout",
     "output_type": "stream",
     "text": [
      "The substring 'world' occurs 2 times.\n"
     ]
    }
   ],
   "source": [
    "def count_substring_occurrence(main_string, substring):\n",
    "    return main_string.count(substring)\n",
    "\n",
    "# Example\n",
    "input_string = \"Hello world, welcome to the world of Python!\"\n",
    "substring = \"world\"\n",
    "\n",
    "count = count_substring_occurrence(input_string, substring)\n",
    "print(f\"The substring '{substring}' occurs {count} times.\")"
   ]
  },
  {
   "cell_type": "code",
   "execution_count": 11,
   "id": "9e2fbfce-007e-49f7-9079-6701e40efcd4",
   "metadata": {},
   "outputs": [
    {
     "name": "stdout",
     "output_type": "stream",
     "text": [
      "Result: heLLO WORLD\n"
     ]
    }
   ],
   "source": [
    "def lowercase_first_n_chars(s, n):\n",
    "    n = min(n, len(s))\n",
    "    result = s[:n].lower() + s[n:]\n",
    "    return result\n",
    "\n",
    "input_string = \"HELLO WORLD\"\n",
    "n = 2\n",
    "output_string = lowercase_first_n_chars(input_string, n)\n",
    "print(\"Result:\", output_string)"
   ]
  },
  {
   "cell_type": "code",
   "execution_count": 12,
   "id": "acaf7bc4-7c73-4bea-b521-da5d54ef375e",
   "metadata": {},
   "outputs": [
    {
     "name": "stdin",
     "output_type": "stream",
     "text": [
      "Enter a string:  hello world dosto\n"
     ]
    },
    {
     "name": "stdout",
     "output_type": "stream",
     "text": [
      "String without spaces: helloworlddosto\n"
     ]
    }
   ],
   "source": [
    "def remove_spaces(input_string):\n",
    "    return input_string.replace(\" \", \"\")\n",
    "\n",
    "user_input = input(\"Enter a string: \")\n",
    "result = remove_spaces(user_input)\n",
    "print(\"String without spaces:\", result)"
   ]
  },
  {
   "cell_type": "code",
   "execution_count": 13,
   "id": "cdff6042-3918-4477-a988-dda99145581b",
   "metadata": {},
   "outputs": [
    {
     "name": "stdin",
     "output_type": "stream",
     "text": [
      "Enter a string:  hello duniya\n"
     ]
    },
    {
     "name": "stdout",
     "output_type": "stream",
     "text": [
      "String with spaces moved to the front: ' helloduniya'\n"
     ]
    }
   ],
   "source": [
    "def move_space_to_front(input_string):\n",
    "    space_count = input_string.count(' ')\n",
    "    no_space_str = input_string.replace(' ', '')\n",
    "    result = ' ' * space_count + no_space_str\n",
    "    return result\n",
    "\n",
    "user_input = input(\"Enter a string: \")\n",
    "result = move_space_to_front(user_input)\n",
    "print(\"String with spaces moved to the front:\", repr(result))"
   ]
  },
  {
   "cell_type": "code",
   "execution_count": 14,
   "id": "1c3d4968-e30a-45d3-ad61-dbae19c5a237",
   "metadata": {},
   "outputs": [
    {
     "name": "stdout",
     "output_type": "stream",
     "text": [
      "Most Occurring Character: 'c' (appears 2 times)\n"
     ]
    }
   ],
   "source": [
    "from collections import Counter\n",
    "\n",
    "def max_occurring_char(input_string):\n",
    "    # Remove spaces if needed (original code had replace(0,0,0) which was incorrect)\n",
    "    input_string = input_string.replace(\" \", \"\")\n",
    "    \n",
    "    char_count = Counter(input_string)\n",
    "    max_char = max(char_count, key=char_count.get)\n",
    "    max_frequency = char_count[max_char]\n",
    "    \n",
    "    return max_char, max_frequency\n",
    "\n",
    "user_input = \"check this\"\n",
    "char, frequency = max_occurring_char(user_input)\n",
    "\n",
    "print(f\"Most Occurring Character: '{char}' (appears {frequency} times)\")"
   ]
  },
  {
   "cell_type": "code",
   "execution_count": 15,
   "id": "2c103178-05c6-43d8-a212-2cf1a0d8ad5a",
   "metadata": {},
   "outputs": [
    {
     "name": "stdout",
     "output_type": "stream",
     "text": [
      "Output: IS ThiS ThE CorrecT LinE\n"
     ]
    }
   ],
   "source": [
    "def capitalize_first_last_letters(input_string):\n",
    "    words = input_string.split()\n",
    "    result = []\n",
    "    for word in words:\n",
    "        if len(word) == 1:\n",
    "            result.append(word.upper())\n",
    "        else:\n",
    "            new_word = word[0].upper() + word[1:-1] + word[-1].upper()\n",
    "            result.append(new_word)\n",
    "    return ' '.join(result)\n",
    "\n",
    "input_str = \"is this the correct line\"\n",
    "output_str = capitalize_first_last_letters(input_str)\n",
    "print(\"Output:\", output_str)"
   ]
  },
  {
   "cell_type": "code",
   "execution_count": 17,
   "id": "3b445ba7-b671-49e1-a135-0216c575aa3c",
   "metadata": {},
   "outputs": [
    {
     "name": "stdout",
     "output_type": "stream",
     "text": [
      "Output: 96\n"
     ]
    }
   ],
   "source": [
    "def sum_of_digits(input_string):\n",
    "    return sum(int(char) for char in input_string if char.isdigit())\n",
    "\n",
    "input_str = \"38888888882883\"\n",
    "result = sum_of_digits(input_str)\n",
    "print(\"Output:\", result)"
   ]
  },
  {
   "cell_type": "code",
   "execution_count": 16,
   "id": "669cf7ec-6cae-4468-af35-5f0aa75bb605",
   "metadata": {},
   "outputs": [
    {
     "name": "stdout",
     "output_type": "stream",
     "text": [
      "Output: 75\n"
     ]
    }
   ],
   "source": [
    "def digital_sum(m):\n",
    "    return sum(int(digit) for digit in str(m))\n",
    "\n",
    "m = 989889897\n",
    "result = digital_sum(m)\n",
    "print(\"Output:\", result)"
   ]
  },
  {
   "cell_type": "code",
   "execution_count": 18,
   "id": "77918841-6d62-4baf-b4be-fb88cefb266e",
   "metadata": {},
   "outputs": [
    {
     "name": "stdout",
     "output_type": "stream",
     "text": [
      "Output: 720\n"
     ]
    }
   ],
   "source": [
    "def digital_product(m):\n",
    "    product = 1\n",
    "    for digit in str(m):\n",
    "        product *= int(digit)\n",
    "    return product\n",
    "\n",
    "m = 123456\n",
    "result = digital_product(m)\n",
    "print(\"Output:\", result)"
   ]
  },
  {
   "cell_type": "code",
   "execution_count": 20,
   "id": "bd151735-4059-4ca8-833e-debc2a100166",
   "metadata": {},
   "outputs": [
    {
     "name": "stdout",
     "output_type": "stream",
     "text": [
      "Reversed number is 8.21\n"
     ]
    }
   ],
   "source": [
    "def reverse_number(n):\n",
    "    if isinstance(n, float):\n",
    "        reversed_str = str(n)[::-1]\n",
    "        return float(reversed_str)\n",
    "    else:\n",
    "        return int(str(n)[::-1])\n",
    "\n",
    "n = 12.8\n",
    "result = reverse_number(n)\n",
    "print(\"Reversed number is\", result)"
   ]
  },
  {
   "cell_type": "code",
   "execution_count": 23,
   "id": "de9ab8e3-74cb-41df-bc4f-1f15db085cda",
   "metadata": {},
   "outputs": [
    {
     "name": "stdin",
     "output_type": "stream",
     "text": [
      "Enter a number:  676\n"
     ]
    },
    {
     "name": "stdout",
     "output_type": "stream",
     "text": [
      "676 is a palindrome.\n"
     ]
    }
   ],
   "source": [
    "def is_palindrome(n):\n",
    "    original = str(n)\n",
    "    reversed_num = original[::-1]\n",
    "    return original == reversed_num\n",
    "\n",
    "n = int(input(\"Enter a number: \"))\n",
    "if is_palindrome(n):\n",
    "    print(f\"{n} is a palindrome.\")\n",
    "else:\n",
    "    print(f\"{n} is not a palindrome.\")"
   ]
  },
  {
   "cell_type": "code",
   "execution_count": 24,
   "id": "c678c2b4-085f-4742-b71e-eb6dea80d19e",
   "metadata": {},
   "outputs": [
    {
     "name": "stdin",
     "output_type": "stream",
     "text": [
      "Enter a number:  678\n"
     ]
    },
    {
     "name": "stdout",
     "output_type": "stream",
     "text": [
      "678 is not an Armstrong number.\n"
     ]
    }
   ],
   "source": [
    "def is_armstrong(n):\n",
    "    digits = [int(d) for d in str(n)]\n",
    "    power = len(digits)\n",
    "    armstrong_sum = sum(d ** power for d in digits)\n",
    "    return n == armstrong_sum\n",
    "\n",
    "n = int(input(\"Enter a number: \"))\n",
    "if is_armstrong(n):\n",
    "    print(f\"{n} is an Armstrong number.\")\n",
    "else:\n",
    "    print(f\"{n} is not an Armstrong number.\")"
   ]
  },
  {
   "cell_type": "code",
   "execution_count": 25,
   "id": "20b488d1-0cda-47c5-9425-d2bd0e75c810",
   "metadata": {},
   "outputs": [
    {
     "name": "stdin",
     "output_type": "stream",
     "text": [
      "Enter a number:  5\n"
     ]
    },
    {
     "name": "stdout",
     "output_type": "stream",
     "text": [
      "Factorial of 5 is: 120\n"
     ]
    }
   ],
   "source": [
    "def factorial(m):\n",
    "    if m < 0:\n",
    "        return \"Factorial is not defined for negative numbers.\"\n",
    "    elif m == 0 or m == 1:\n",
    "        return 1\n",
    "    else:\n",
    "        result = 1\n",
    "        for i in range(2, m+1):\n",
    "            result *= i\n",
    "        return result\n",
    "\n",
    "m = int(input(\"Enter a number: \"))\n",
    "print(\"Factorial of\", m, \"is:\", factorial(m))"
   ]
  },
  {
   "cell_type": "code",
   "execution_count": 26,
   "id": "5ee563c9-5b46-48fd-899d-4e0d7fe8dfb8",
   "metadata": {},
   "outputs": [
    {
     "name": "stdin",
     "output_type": "stream",
     "text": [
      "Enter a number:  56\n"
     ]
    },
    {
     "name": "stdout",
     "output_type": "stream",
     "text": [
      "56 is not a strong number.\n"
     ]
    }
   ],
   "source": [
    "def factorial(m):\n",
    "    if m == 0 or m == 1:\n",
    "        return 1\n",
    "    else:\n",
    "        fact = 1\n",
    "        for i in range(2, m+1):\n",
    "            fact *= i\n",
    "        return fact\n",
    "\n",
    "def is_strong_number(m):\n",
    "    digits = [int(d) for d in str(m)]\n",
    "    sum_of_factorials = sum(factorial(d) for d in digits)\n",
    "    return m == sum_of_factorials\n",
    "\n",
    "m = int(input(\"Enter a number: \"))\n",
    "if is_strong_number(m):\n",
    "    print(f\"{m} is a strong number.\")\n",
    "else:\n",
    "    print(f\"{m} is not a strong number.\")"
   ]
  },
  {
   "cell_type": "code",
   "execution_count": 27,
   "id": "585c5ba4-c5c3-4835-89c5-cfb82970f284",
   "metadata": {},
   "outputs": [
    {
     "name": "stdin",
     "output_type": "stream",
     "text": [
      "Enter a number:  4\n"
     ]
    },
    {
     "name": "stdout",
     "output_type": "stream",
     "text": [
      "4 is a unique number.\n"
     ]
    }
   ],
   "source": [
    "def is_unique_number(m):\n",
    "    digits = list(str(m))\n",
    "    return len(digits) == len(set(digits))\n",
    "\n",
    "m = int(input(\"Enter a number: \"))\n",
    "if is_unique_number(m):\n",
    "    print(f\"{m} is a unique number.\")\n",
    "else:\n",
    "    print(f\"{m} is not a unique number.\")"
   ]
  },
  {
   "cell_type": "markdown",
   "id": "50cd8636-5831-40e5-a7df-33372b97b99e",
   "metadata": {},
   "source": [
    "# 25"
   ]
  },
  {
   "cell_type": "code",
   "execution_count": 33,
   "id": "126b8b06-d296-4e2a-aa08-63765e666021",
   "metadata": {},
   "outputs": [
    {
     "name": "stdin",
     "output_type": "stream",
     "text": [
      "Enter a number:  56\n"
     ]
    },
    {
     "name": "stdout",
     "output_type": "stream",
     "text": [
      "56 is not a perfect number.\n"
     ]
    }
   ],
   "source": [
    "def is_perfect_number(m):\n",
    "    if m < 2:\n",
    "        return False\n",
    "    sum_of_divisors = sum(i for i in range(1, m) if m % i == 0)\n",
    "    return sum_of_divisors == m\n",
    "\n",
    "m = int(input(\"Enter a number: \"))\n",
    "if is_perfect_number(m):\n",
    "    print(f\"{m} is a perfect number.\")\n",
    "else:\n",
    "    print(f\"{m} is not a perfect number.\")"
   ]
  },
  {
   "cell_type": "code",
   "execution_count": 37,
   "id": "cf22c751-39c3-42a5-a599-86bb7b034047",
   "metadata": {},
   "outputs": [
    {
     "name": "stdin",
     "output_type": "stream",
     "text": [
      "Enter a number:  11\n"
     ]
    },
    {
     "name": "stdout",
     "output_type": "stream",
     "text": [
      "11 is a Prime number.\n"
     ]
    }
   ],
   "source": [
    "def is_prime(n):\n",
    "    if n <= 1:\n",
    "        return False\n",
    "    elif n == 2:\n",
    "        return True\n",
    "    elif n % 2 == 0:\n",
    "        return False\n",
    "    for i in range(3, int(n**0.5) + 1, 2):\n",
    "        if n % i == 0:\n",
    "            return False\n",
    "    return True\n",
    "\n",
    "n = int(input(\"Enter a number: \"))\n",
    "if is_prime(n):\n",
    "    print(f\"{n} is a Prime number.\")\n",
    "else:\n",
    "    print(f\"{n} is not a Prime number.\")"
   ]
  },
  {
   "cell_type": "code",
   "execution_count": 38,
   "id": "f395b886-f4d9-4e2a-b738-5055d8bfd541",
   "metadata": {},
   "outputs": [
    {
     "name": "stdout",
     "output_type": "stream",
     "text": [
      "1\n",
      "22\n",
      "333\n",
      "4444\n",
      "55555\n",
      "666666\n",
      "7777777\n",
      "88888888\n",
      "999999999\n"
     ]
    }
   ],
   "source": [
    "for i in range(1, 10):\n",
    "    print(str(i) * i)"
   ]
  },
  {
   "cell_type": "code",
   "execution_count": 40,
   "id": "c4cfd0d1-fcad-43b6-88a7-e08a1bf3bfee",
   "metadata": {},
   "outputs": [
    {
     "name": "stdout",
     "output_type": "stream",
     "text": [
      "        1\n",
      "       12\n",
      "      123\n",
      "     1234\n",
      "    12345\n",
      "   123456\n",
      "  1234567\n",
      " 12345678\n",
      "123456789\n"
     ]
    }
   ],
   "source": [
    "for i in range(1, 10):\n",
    "    print(\" \" * (9 - i), end=\"\")\n",
    "    for j in range(1, i + 1):\n",
    "        print(j, end=\"\")\n",
    "    print()"
   ]
  },
  {
   "cell_type": "code",
   "execution_count": 29,
   "id": "ccdc2ac8-5902-4190-bb94-aa3abc1a67ad",
   "metadata": {},
   "outputs": [
    {
     "name": "stdout",
     "output_type": "stream",
     "text": [
      "* \n",
      "* * \n",
      "* * * \n",
      "* * * * \n",
      "* * * * * \n",
      "* * * * * * \n",
      "* * * * * * * \n",
      "* * * * * * * * \n",
      "* * * * * * * * * \n",
      "* * * * * * * * * * \n"
     ]
    }
   ],
   "source": [
    "for i in range(1, 11):\n",
    "    print('* ' * i)"
   ]
  },
  {
   "cell_type": "code",
   "execution_count": 30,
   "id": "4e47a6b3-e4d9-4af6-99c1-ab9d49d8fdc8",
   "metadata": {},
   "outputs": [
    {
     "name": "stdout",
     "output_type": "stream",
     "text": [
      "A\n",
      "BB\n",
      "CCC\n",
      "DDDD\n",
      "EEEEE\n",
      "FFFFFF\n",
      "GGGGGGG\n",
      "HHHHHHHH\n"
     ]
    }
   ],
   "source": [
    "for i in range(1, 9):\n",
    "    print(chr(64 + i) * i)  # ASCII 'A' = 65"
   ]
  },
  {
   "cell_type": "code",
   "execution_count": 31,
   "id": "cf528079-5c5c-40d8-9ec8-0f09d15c1f38",
   "metadata": {},
   "outputs": [
    {
     "name": "stdout",
     "output_type": "stream",
     "text": [
      "   1\n",
      "  2 \n",
      " 3  \n",
      "4   \n"
     ]
    }
   ],
   "source": [
    "cross = 4\n",
    "for i in range(1, cross + 1):\n",
    "    print(' ' * (cross - i) + str(i) + ' ' * (i - 1))"
   ]
  },
  {
   "cell_type": "code",
   "execution_count": 32,
   "id": "4b4ca1aa-896f-4405-9635-acf594e3b09a",
   "metadata": {},
   "outputs": [
    {
     "name": "stdout",
     "output_type": "stream",
     "text": [
      "Eq(sigma, sqrt(5))\n"
     ]
    }
   ],
   "source": [
    "from sympy import symbols, Eq, sqrt, pi\n",
    "\n",
    "sigma = symbols('sigma')\n",
    "equation = Eq(sigma, sqrt(5, pi))  # Hypothetical equation\n",
    "print(equation)"
   ]
  },
  {
   "cell_type": "code",
   "execution_count": 41,
   "id": "ce27f705-f6fb-409d-9897-5fddea5eb842",
   "metadata": {},
   "outputs": [
    {
     "name": "stdout",
     "output_type": "stream",
     "text": [
      "       A\n",
      "      AB\n",
      "     ABC\n",
      "    ABCD\n",
      "   ABCDE\n",
      "  ABCDEF\n",
      " ABCDEFG\n",
      "ABCDEFGH\n"
     ]
    }
   ],
   "source": [
    "for i in range(1, 9):\n",
    "    print(' ' * (8 - i), end='')  # Right-align\n",
    "    for j in range(65, 65 + i):\n",
    "        print(chr(j), end='')\n",
    "    print()"
   ]
  },
  {
   "cell_type": "code",
   "execution_count": 43,
   "id": "a955669b-e1bf-41f9-a921-5137bd8eed87",
   "metadata": {},
   "outputs": [
    {
     "name": "stdout",
     "output_type": "stream",
     "text": [
      "   1\n",
      "  22\n",
      " 333\n",
      "4444\n"
     ]
    }
   ],
   "source": [
    "cross = 4\n",
    "for i in range(1, cross + 1):\n",
    "    print(' ' * (cross - i), end='')  # Right-align\n",
    "    print(str(i) * i)"
   ]
  },
  {
   "cell_type": "code",
   "execution_count": null,
   "id": "04c7b545-6f1a-488a-bf21-d4fff24a617c",
   "metadata": {},
   "outputs": [],
   "source": []
  }
 ],
 "metadata": {
  "kernelspec": {
   "display_name": "Python 3 (ipykernel)",
   "language": "python",
   "name": "python3"
  },
  "language_info": {
   "codemirror_mode": {
    "name": "ipython",
    "version": 3
   },
   "file_extension": ".py",
   "mimetype": "text/x-python",
   "name": "python",
   "nbconvert_exporter": "python",
   "pygments_lexer": "ipython3",
   "version": "3.12.4"
  }
 },
 "nbformat": 4,
 "nbformat_minor": 5
}
